{
 "cells": [
  {
   "cell_type": "markdown",
   "metadata": {},
   "source": [
    "<img src=\"http://www.exalumnos.usm.cl/wp-content/uploads/2015/06/Isotipo-Negro.gif\" title=\"Title text\" width=\"20%\" height=\"20%\" />\n",
    "\n",
    "\n",
    "<hr style=\"height:2px;border:none\"/>\n",
    "<h1 align='center'> INF-393 Máquinas de Aprendizaje II-2019 </h1>\n",
    "\n",
    "<H3 align='center'> Tarea 3 - Ensamblados y modelos avanzados </H3>\n",
    "<hr style=\"height:2px;border:none\"/>\n",
    "\n",
    "**Temas**  \n",
    "* Técnicas de ensamblado: *bagging*, *boosting* y *random forest*.\n",
    "* Ventajas de técnicas de ensamblados\n",
    "* Problemas desbalanceados\n",
    " \n",
    "\n",
    "**Formalidades**  \n",
    "* Equipos de trabajo de: 2 personas (*cada uno debe estar en condiciones de realizar una presentación y discutir sobre cada punto del trabajo realizado*)\n",
    "* Se debe preparar una presentación de 20 minutos. Presentador será elegido aleatoriamente.\n",
    "* Se debe preparar un (breve) Jupyter/IPython notebook que explique la actividad realizada y las conclusiones del trabajo\n",
    "* Fecha de entrega y cierre competencia: 17 de Enero\n",
    "* Formato de entrega: envı́o de link Github al correo electrónico del ayudante (*<francisco.mena.13@sansano.usm.cl>*) , incluyendo al profesor en copia (*<jnancu@inf.utfsm.cl>*). Por favor especificar el siguiente asunto: [Tarea3-INF393-II-2019]\n",
    "\n",
    "<hr style=\"height:2px;border:none\"/>\n",
    "\n",
    "La tarea se divide en secciones:\n",
    "\n",
    "[1.](#primero) Ensamblados para regresión  \n",
    "[2.](#segundo) Detección de acoso en *Twitter*  "
   ]
  },
  {
   "cell_type": "markdown",
   "metadata": {},
   "source": [
    "<a id=\"segundo\"></a>\n",
    "## 2. Detección de acoso en *Twitter*\n",
    "---\n",
    "En las redes sociales muchas veces se encuentra con un cierto comportamiento indeseable para los usuarios, tal como racismo, misógeno, grupos de odio o *trolls*. El poder detectar de manera automática ciertos patrones en el comportamiento para tomar una acción debe ser crucial para reducir el tiempo y esfuerzo humano. En esta actividad se trabajará sobre *tweets* la red social de *twitter* para detectar comportamiento *online* de acoso (*harassment*), que por lo general, incluye *flaming* como lenguaje abusivo o insultos, *doxing* como mostrar la información personal de una mujer, por ejemplo el domicilio o número de teléfono, la suplantación o la vergüenza pública por destruir la reputación de las personas.\n",
    "\n",
    "<img src=\"https://kidshelpline.com.au/sites/default/files/bdl_image/header-T-OH.png\" title=\"Title text\" width=\"45%\"  />\n",
    "\n",
    "En algunos problemas como este, el comportamiento a detectar puede ser asociado a una anomalía (*outlier*) del comportamiento normal de los usuarios en las redes sociales. Esto es una de las causas de la dificultad del problema, puesto que es **altamente desbalanceado**, donde aproximadamente un 10% de los *tweets* corresponden a acoso (*harassment*).\n",
    "\n",
    "Los datos trabajados corresponderan a *tweets* etiquetados como *harassment* (con valor 1) o no (con valor 0) -- la tarea a detectar--. Además si desea utilizar, se incluye la información del tipo de *harassment* en el conjunto de entrenamiento como atributos extras. El conjunto de pruebas solo contiene los *tweets* a ser etiquetados.\n",
    "\n",
    "---\n",
    "### Importante\n",
    "* Esta pregunta será evaluada **sólo** por los resultados (*submission*) obtenidos en el desafío presentado en __[Kaggle](https://www.kaggle.com/c/t1-ml/)__ a través del siguiente __[link](https://www.kaggle.com/t/91f8c0c746f945cfa510b88469df4d67)__. Las notas serán entregadas a través de la siguiente fórmula:  \n",
    "$$ Nota(i) = 100\\cdot max\\left(0.55; s^{(1-i)} \\right), \\ \\ con \\ \\ i \\in \\{1,\\ \\ldots, N\\}$$\n",
    "Con la escala de decaimiento es $ s = 1.05$ y con $i$ su lugar en el *ranking*.\n",
    "\n",
    "* La métrica de evaluación será el *f1 score* [[3]](#refs) sobre la clase positiva (*harassment*), así evaluar la calidad del modelo sobre la clase minoritaria, lo cual también debiera reflejar el desempeño de la clase negativa (al ser el complemento).\n",
    "```python\n",
    "from  sklearn.metrics import f1_score\n",
    "f1_score(y_test, y_pred, average='binary')\n",
    "```\n",
    "\n",
    "* El archivo de *submission* debe contener las predicciones de *harassment* (0 o 1) a cada dato de pruebas, además de la columna de *id* asociado al dato, iniciando en 1. Si leyó de manera ordenada el archivo de pruebas, se puede generar de la siguiente manera:\n",
    "```python\n",
    "df_aux = pd.DataFrame()\n",
    "df_aux[\"id\"] = np.arange(1, 1+y_pred.shape[0])\n",
    "df_aux[\"harassment\"] = y_pred.astype('int')\n",
    "df_aux.to_csv(\"test_estimation.csv\", index=False)\n",
    "```\n",
    "\n",
    "* Se solicita realizar **un solo** *submission* por grupo, para no perjudicar la nota de sus compañeros en el *ranking*. Además de ser claros con sus nombres de entrega para no asignarles de manera errónea su correspondiente nota.\n",
    "\n",
    "* **Si no realiza *submission* a Kaggle su nota en esta sección será de 0**.\n",
    "\n",
    "* **Si su *score* alcanzado es menor o igual al *benchmark* random que se encuentra en el *ranking*, su nota en esta sección será de 25**"
   ]
  },
  {
   "cell_type": "code",
   "execution_count": 87,
   "metadata": {},
   "outputs": [],
   "source": [
    "import nltk\n",
    "import pandas as pd\n",
    "import numpy as np\n",
    "import re, time\n",
    "import scipy as sp\n",
    "import matplotlib.pyplot as plt\n",
    "from sklearn.metrics import confusion_matrix\n",
    "import seaborn as sns\n",
    "from  sklearn.metrics import f1_score"
   ]
  },
  {
   "cell_type": "code",
   "execution_count": 24,
   "metadata": {},
   "outputs": [],
   "source": [
    "#Primero se lee el archivo\n",
    "\n",
    "df_train_original = pd.read_csv('Train_data.csv', index_col = 0)"
   ]
  },
  {
   "cell_type": "code",
   "execution_count": 25,
   "metadata": {},
   "outputs": [
    {
     "data": {
      "text/html": [
       "<div>\n",
       "<style scoped>\n",
       "    .dataframe tbody tr th:only-of-type {\n",
       "        vertical-align: middle;\n",
       "    }\n",
       "\n",
       "    .dataframe tbody tr th {\n",
       "        vertical-align: top;\n",
       "    }\n",
       "\n",
       "    .dataframe thead th {\n",
       "        text-align: right;\n",
       "    }\n",
       "</style>\n",
       "<table border=\"1\" class=\"dataframe\">\n",
       "  <thead>\n",
       "    <tr style=\"text-align: right;\">\n",
       "      <th></th>\n",
       "      <th>tweet_content</th>\n",
       "      <th>harassment</th>\n",
       "      <th>IndirectH</th>\n",
       "      <th>PhysicalH</th>\n",
       "      <th>SexualH</th>\n",
       "    </tr>\n",
       "    <tr>\n",
       "      <th>id</th>\n",
       "      <th></th>\n",
       "      <th></th>\n",
       "      <th></th>\n",
       "      <th></th>\n",
       "      <th></th>\n",
       "    </tr>\n",
       "  </thead>\n",
       "  <tbody>\n",
       "    <tr>\n",
       "      <th>9565</th>\n",
       "      <td>also released this video of photos voyager too...</td>\n",
       "      <td>0</td>\n",
       "      <td>0</td>\n",
       "      <td>0</td>\n",
       "      <td>0</td>\n",
       "    </tr>\n",
       "    <tr>\n",
       "      <th>6794</th>\n",
       "      <td>Yeah sexting older games until x89 teach doug...</td>\n",
       "      <td>0</td>\n",
       "      <td>0</td>\n",
       "      <td>0</td>\n",
       "      <td>0</td>\n",
       "    </tr>\n",
       "    <tr>\n",
       "      <th>4337</th>\n",
       "      <td>ava There s likely hundreds of stories like t...</td>\n",
       "      <td>0</td>\n",
       "      <td>0</td>\n",
       "      <td>0</td>\n",
       "      <td>0</td>\n",
       "    </tr>\n",
       "    <tr>\n",
       "      <th>6621</th>\n",
       "      <td>Wonder if there is significance to having Ava ...</td>\n",
       "      <td>0</td>\n",
       "      <td>0</td>\n",
       "      <td>0</td>\n",
       "      <td>0</td>\n",
       "    </tr>\n",
       "    <tr>\n",
       "      <th>3289</th>\n",
       "      <td>i m a slut for guacamole an avocadhoe if you will</td>\n",
       "      <td>0</td>\n",
       "      <td>0</td>\n",
       "      <td>0</td>\n",
       "      <td>0</td>\n",
       "    </tr>\n",
       "  </tbody>\n",
       "</table>\n",
       "</div>"
      ],
      "text/plain": [
       "                                          tweet_content  harassment  \\\n",
       "id                                                                    \n",
       "9565  also released this video of photos voyager too...           0   \n",
       "6794   Yeah sexting older games until x89 teach doug...           0   \n",
       "4337   ava There s likely hundreds of stories like t...           0   \n",
       "6621  Wonder if there is significance to having Ava ...           0   \n",
       "3289  i m a slut for guacamole an avocadhoe if you will           0   \n",
       "\n",
       "      IndirectH  PhysicalH  SexualH  \n",
       "id                                   \n",
       "9565          0          0        0  \n",
       "6794          0          0        0  \n",
       "4337          0          0        0  \n",
       "6621          0          0        0  \n",
       "3289          0          0        0  "
      ]
     },
     "execution_count": 25,
     "metadata": {},
     "output_type": "execute_result"
    }
   ],
   "source": [
    "df_train_original.head()"
   ]
  },
  {
   "cell_type": "code",
   "execution_count": 26,
   "metadata": {},
   "outputs": [
    {
     "data": {
      "text/plain": [
       "tweet_content    also released this video of photos voyager too...\n",
       "harassment                                                     549\n",
       "IndirectH                                                      126\n",
       "PhysicalH                                                      112\n",
       "SexualH                                                        311\n",
       "dtype: object"
      ]
     },
     "execution_count": 26,
     "metadata": {},
     "output_type": "execute_result"
    }
   ],
   "source": [
    "df_train_original.sum()"
   ]
  },
  {
   "cell_type": "code",
   "execution_count": 27,
   "metadata": {},
   "outputs": [
    {
     "data": {
      "text/plain": [
       "tweet_content    5703\n",
       "harassment       5703\n",
       "IndirectH        5703\n",
       "PhysicalH        5703\n",
       "SexualH          5703\n",
       "dtype: int64"
      ]
     },
     "execution_count": 27,
     "metadata": {},
     "output_type": "execute_result"
    }
   ],
   "source": [
    "df_train_original.count()"
   ]
  },
  {
   "cell_type": "code",
   "execution_count": 28,
   "metadata": {},
   "outputs": [
    {
     "data": {
      "text/plain": [
       "10.387978142076502"
      ]
     },
     "execution_count": 28,
     "metadata": {},
     "output_type": "execute_result"
    }
   ],
   "source": [
    "#porcentaje de haressment\n",
    "5703/549"
   ]
  },
  {
   "cell_type": "markdown",
   "metadata": {},
   "source": [
    "Se separan los datos en entrenamiento y de evaluacion"
   ]
  },
  {
   "cell_type": "code",
   "execution_count": 30,
   "metadata": {},
   "outputs": [
    {
     "name": "stdout",
     "output_type": "stream",
     "text": [
      "Cantidad de datos de entrenamiento: 5703\n",
      "Cantidad de datos de evaluacion 1149\n"
     ]
    }
   ],
   "source": [
    "np.random.seed(0)\n",
    "mask_test = np.random.rand(df_train_original.shape[0]) < 0.20\n",
    "\n",
    "df_train = df_train_original['tweet_content'][~mask_test] \n",
    "df_val= df_train_original['tweet_content'][mask_test]\n",
    "\n",
    "labels_train_harassment = df_train_original['harassment'][~mask_test]\n",
    "labels_val_harassment = df_train_original['harassment'][mask_test]\n",
    "\n",
    "labels_train_harassment = df_train_original['IndirectH'][~mask_test]\n",
    "labels_val_harassment = df_train_original['IndirectH'][mask_test]\n",
    "\n",
    "labels_train_harassment = df_train_original['PhysicalH'][~mask_test]\n",
    "labels_val_harassment = df_train_original['PhysicalH'][mask_test]\n",
    "\n",
    "labels_train_harassment = df_train_original['SexualH'][~mask_test]\n",
    "labels_val_harassment = df_train_original['SexualH'][mask_test]\n",
    "\n",
    "print(\"Cantidad de datos de entrenamiento:\", df_train_original.shape[0])\n",
    "print(\"Cantidad de datos de evaluacion\", df_val.shape[0])"
   ]
  },
  {
   "cell_type": "markdown",
   "metadata": {},
   "source": [
    "Se realizará una matriz de frecuencia"
   ]
  },
  {
   "cell_type": "code",
   "execution_count": 33,
   "metadata": {},
   "outputs": [
    {
     "name": "stderr",
     "output_type": "stream",
     "text": [
      "[nltk_data] Downloading package stopwords to\n",
      "[nltk_data]     C:\\Users\\arjon\\AppData\\Roaming\\nltk_data...\n",
      "[nltk_data]   Package stopwords is already up-to-date!\n",
      "[nltk_data] Downloading package punkt to\n",
      "[nltk_data]     C:\\Users\\arjon\\AppData\\Roaming\\nltk_data...\n",
      "[nltk_data]   Package punkt is already up-to-date!\n",
      "[nltk_data] Downloading package wordnet to\n",
      "[nltk_data]     C:\\Users\\arjon\\AppData\\Roaming\\nltk_data...\n",
      "[nltk_data]   Package wordnet is already up-to-date!\n"
     ]
    },
    {
     "data": {
      "text/plain": [
       "True"
      ]
     },
     "execution_count": 33,
     "metadata": {},
     "output_type": "execute_result"
    }
   ],
   "source": [
    "#letamtizar textos\n",
    "nltk.download('stopwords')\n",
    "nltk.download('punkt')\n",
    "nltk.download('wordnet')"
   ]
  },
  {
   "cell_type": "code",
   "execution_count": 43,
   "metadata": {},
   "outputs": [],
   "source": [
    "from nltk.corpus import stopwords\n",
    "from nltk import word_tokenize\n",
    "from nltk.stem import WordNetLemmatizer \n",
    "def base_word(word):\n",
    "    lemmatizer = WordNetLemmatizer()\n",
    "    return lemmatizer.lemmatize(word) \n",
    "def word_extractor(text):\n",
    "    commonwords = stopwords.words('english')\n",
    "    text = re.sub(r'([a-z])\\1+', r'\\1\\1',text) #substitute multiple letter by two\n",
    "    words = \"\"\n",
    "    wordtokens = [ base_word(word.lower()) for word in word_tokenize(text) ]\n",
    "    for word in wordtokens:\n",
    "        if word not in commonwords: #delete stopwords\n",
    "            words+=\" \"+word\n",
    "    return words\n",
    "\n",
    "texts_train = [word_extractor(text) for text in df_train]\n",
    "texts_train_original = [word_extractor(text) for text in df_train_original]\n",
    "texts_val = [word_extractor(text) for text in df_val]"
   ]
  },
  {
   "cell_type": "code",
   "execution_count": 41,
   "metadata": {},
   "outputs": [
    {
     "data": {
      "text/plain": [
       "id\n",
       "9565    also released this video of photos voyager too...\n",
       "6794     Yeah sexting older games until x89 teach doug...\n",
       "4337     ava There s likely hundreds of stories like t...\n",
       "6621    Wonder if there is significance to having Ava ...\n",
       "3289    i m a slut for guacamole an avocadhoe if you will\n",
       "Name: tweet_content, dtype: object"
      ]
     },
     "execution_count": 41,
     "metadata": {},
     "output_type": "execute_result"
    }
   ],
   "source": [
    "df_train.head()"
   ]
  },
  {
   "cell_type": "code",
   "execution_count": 40,
   "metadata": {},
   "outputs": [],
   "source": [
    "#Transformar los textos en vectores\n",
    "EMBEDDING_DIM = 300\n",
    "GLOVE_FILE = \"./glove.6B.%dd.txt\"%(EMBEDDING_DIM)\n",
    "embeddings_index = {}\n",
    "with open(GLOVE_FILE,encoding=\"utf8\") as file:\n",
    "    for line in file:\n",
    "        values = line.split()\n",
    "        embeddings_index[values[0]] = np.asarray(values[1:], dtype='float32')\n",
    "\n",
    "#vocab = vectorizer.get_feature_names()\n",
    "#embeddings_index.get(word)"
   ]
  },
  {
   "cell_type": "code",
   "execution_count": 48,
   "metadata": {},
   "outputs": [],
   "source": [
    "#se crea el vocabulario de las palabras en texts_train\n",
    "def get_vocab(texts):\n",
    "    vocab = []\n",
    "    for text in texts:\n",
    "        for word in text.strip().split():\n",
    "            if word in [\".\",\",\",\"'s\",\"'\",\"-\",\"_\"]:\n",
    "                continue\n",
    "            if word not in vocab:\n",
    "                vocab.append(word)\n",
    "    return vocab\n",
    "\n",
    "vocab_train_haressment = get_vocab(texts_train)\n",
    "vocab_train = get_vocab(texts_train)"
   ]
  },
  {
   "cell_type": "code",
   "execution_count": 53,
   "metadata": {},
   "outputs": [],
   "source": [
    "#se crea un vocabulario especial de los tweets haressment\n",
    "contador = 0\n",
    "texts_train_harassment=[]\n",
    "for i in labels_train_harassment:\n",
    "    if i == 1:\n",
    "        texts_train_harassment.append(texts_train[contador])\n",
    "    contador+=1\n",
    "vocab_train_haressment = get_vocab(texts_train_harassment)"
   ]
  },
  {
   "cell_type": "code",
   "execution_count": 55,
   "metadata": {},
   "outputs": [],
   "source": [
    "#acotar embeddings_index por el vocabulario\n",
    "embeddings_index_in_vocab = {}\n",
    "for word in vocab_train:\n",
    "    if word in embeddings_index:\n",
    "        embeddings_index_in_vocab[word] = embeddings_index.get(word)"
   ]
  },
  {
   "cell_type": "code",
   "execution_count": 56,
   "metadata": {},
   "outputs": [],
   "source": [
    "\n",
    "#sp.sparse.csr_matrix((3, 4), dtype=np.int8).toarray()\n",
    "\n",
    "def transform(vocab,texts):\n",
    "    index_find_previously = {}\n",
    "    rows = []\n",
    "    cols = []\n",
    "    datas = []\n",
    "    new_matrix = sp.sparse.csr_matrix((len(texts), len(vocab)), dtype=np.float64)\n",
    "    for row in range(len(texts)):\n",
    "        data_temp = {}\n",
    "        for word in texts[row].strip().split():\n",
    "            if word in [\".\",\",\",\"'s\",\"'\",\"-\",\"_\"]:\n",
    "                continue\n",
    "            if word in vocab:\n",
    "                if vocab.index(word) in data_temp:\n",
    "                    data_temp[vocab.index(word)] +=1\n",
    "                else:\n",
    "                    data_temp[vocab.index(word)] = 1\n",
    "            elif word in embeddings_index:\n",
    "                if word not in index_find_previously:\n",
    "                    index_find = find_closest_embeddings(vocab,word)\n",
    "                    index_find_previously[word] = index_find\n",
    "                else:\n",
    "                    index_find = index_find_previously[word]\n",
    "                \n",
    "                if index_find == -1:\n",
    "                    continue\n",
    "                \n",
    "                if index_find in data_temp:\n",
    "                    data_temp[index_find] +=1\n",
    "                else:\n",
    "                    data_temp[index_find] = 1\n",
    "        for col,data in data_temp.items():\n",
    "            rows.append(row)\n",
    "            cols.append(col)\n",
    "            datas.append(data)\n",
    "    return sp.sparse.csr_matrix((datas, (rows, cols)), shape=(len(texts), len(vocab)))\n",
    "\n",
    "import heapq\n",
    "def find_closest_embeddings(vocab,word_search):\n",
    "    words_find = heapq.nsmallest(2,embeddings_index_in_vocab.keys(),key=lambda word: sp.spatial.distance.euclidean(embeddings_index_in_vocab.get(word),embeddings_index.get(word_search)))\n",
    "    for word in words_find:\n",
    "        if word in vocab:\n",
    "            #print(\"encontro\",word)\n",
    "            return vocab.index(word)\n",
    "    #\"no se encontro ninguna palabra parecida a word_search\n",
    "    return -1\n"
   ]
  },
  {
   "cell_type": "code",
   "execution_count": 61,
   "metadata": {},
   "outputs": [
    {
     "name": "stdout",
     "output_type": "stream",
     "text": [
      "termino features_train\n",
      "termino features_val\n"
     ]
    },
    {
     "ename": "NameError",
     "evalue": "name 'vocab' is not defined",
     "output_type": "error",
     "traceback": [
      "\u001b[1;31m---------------------------------------------------------------------------\u001b[0m",
      "\u001b[1;31mNameError\u001b[0m                                 Traceback (most recent call last)",
      "\u001b[1;32m<ipython-input-61-9d9a5135fcf9>\u001b[0m in \u001b[0;36m<module>\u001b[1;34m\u001b[0m\n\u001b[0;32m     16\u001b[0m     \u001b[1;32mif\u001b[0m \u001b[0mdist\u001b[0m\u001b[1;33m[\u001b[0m\u001b[0mi\u001b[0m\u001b[1;33m]\u001b[0m \u001b[1;33m>=\u001b[0m \u001b[0msorted_dist\u001b[0m\u001b[1;33m[\u001b[0m\u001b[1;33m-\u001b[0m\u001b[1;36m20\u001b[0m\u001b[1;33m]\u001b[0m\u001b[1;33m:\u001b[0m\u001b[1;33m\u001b[0m\u001b[1;33m\u001b[0m\u001b[0m\n\u001b[0;32m     17\u001b[0m \u001b[1;33m\u001b[0m\u001b[0m\n\u001b[1;32m---> 18\u001b[1;33m         \u001b[0mtop_20_most_freq_words\u001b[0m\u001b[1;33m.\u001b[0m\u001b[0mappend\u001b[0m\u001b[1;33m(\u001b[0m\u001b[0mvocab\u001b[0m\u001b[1;33m[\u001b[0m\u001b[0mi\u001b[0m\u001b[1;33m]\u001b[0m\u001b[1;33m)\u001b[0m\u001b[1;33m\u001b[0m\u001b[1;33m\u001b[0m\u001b[0m\n\u001b[0m\u001b[0;32m     19\u001b[0m         \u001b[0mtop_20_most_freq_dist\u001b[0m\u001b[1;33m.\u001b[0m\u001b[0mappend\u001b[0m\u001b[1;33m(\u001b[0m\u001b[0mdist\u001b[0m\u001b[1;33m[\u001b[0m\u001b[0mi\u001b[0m\u001b[1;33m]\u001b[0m\u001b[1;33m)\u001b[0m\u001b[1;33m\u001b[0m\u001b[1;33m\u001b[0m\u001b[0m\n\u001b[0;32m     20\u001b[0m \u001b[1;33m\u001b[0m\u001b[0m\n",
      "\u001b[1;31mNameError\u001b[0m: name 'vocab' is not defined"
     ]
    }
   ],
   "source": [
    "features_train = transform(vocab_train,texts_train)\n",
    "print(\"termino features_train\")\n",
    "features_val = transform(vocab_train,texts_val)\n",
    "print(\"termino features_val\")\n",
    "#features_test = transform(vocab,texts_test)\n",
    "#print(\"termino features_test\")\n"
   ]
  },
  {
   "cell_type": "code",
   "execution_count": 64,
   "metadata": {},
   "outputs": [
    {
     "data": {
      "image/png": "[encoded data removed]",
      "text/plain": [
       "<Figure size 1296x360 with 1 Axes>"
      ]
     },
     "metadata": {
      "needs_background": "light"
     },
     "output_type": "display_data"
    }
   ],
   "source": [
    "dist=list(np.array(features_train.sum(axis=0)).reshape(-1,))\n",
    "\n",
    "sorted_dist = sorted(dist)\n",
    "\n",
    "top_20_most_freq_words = []\n",
    "top_20_most_freq_dist = []\n",
    "\n",
    "for i in range(len(dist)):\n",
    "\n",
    "    if dist[i] >= sorted_dist[-20]:\n",
    "        \n",
    "        top_20_most_freq_words.append(vocab_train[i])\n",
    "        top_20_most_freq_dist.append(dist[i])\n",
    "\n",
    "objects = top_20_most_freq_words\n",
    "y_pos = np.arange(len(top_20_most_freq_words))\n",
    "performance = top_20_most_freq_dist\n",
    "\n",
    "f, ax = plt.subplots(figsize=(18,5))\n",
    "plt.bar(y_pos, performance, align='center')\n",
    "plt.xticks(y_pos, objects)\n",
    "plt.ylabel('Word frequency')\n",
    "plt.title('Frequency')\n",
    "\n",
    "plt.show()"
   ]
  },
  {
   "cell_type": "code",
   "execution_count": 67,
   "metadata": {},
   "outputs": [
    {
     "data": {
      "image/png": "[encoded data removed]",
      "text/plain": [
       "<Figure size 720x360 with 1 Axes>"
      ]
     },
     "metadata": {
      "needs_background": "light"
     },
     "output_type": "display_data"
    }
   ],
   "source": [
    "from sklearn.decomposition import TruncatedSVD\n",
    "model = TruncatedSVD(n_components=2)\n",
    "model.fit(features_train)\n",
    "x_plot = model.transform(features_train)\n",
    "\n",
    "plt.figure(figsize=(10,5))\n",
    "plt.scatter(x_plot[:,0], x_plot[:,1], c=labels_train_harassment)\n",
    "plt.show()"
   ]
  },
  {
   "cell_type": "code",
   "execution_count": 96,
   "metadata": {},
   "outputs": [],
   "source": [
    "def mostrar_resultados(y_test, pred_y):\n",
    "    print(f1_score(y_test, pred_y, average='binary'))\n",
    "def do_model(model_function, parameters_range, plot_title, x_axis_name):\n",
    "    list_f1 = []\n",
    "    for parameter in parameters_range:\n",
    "        model, y_test, pred_y = model_function(features_train,labels_train_harassment,features_val,labels_val_harassment, param = parameter)\n",
    "        list_f1.append(f1_score(y_test, pred_y, average='binary'))\n",
    "    plt.figure(figsize=(10,5))\n",
    "    plt.title(plot_title)\n",
    "    plt.plot(parameters_range, list_f1)\n",
    "    plt.ylabel('f1')\n",
    "    plt.xlabel(x_axis_name)\n",
    "    plt.show()\n",
    "    return"
   ]
  },
  {
   "cell_type": "code",
   "execution_count": 70,
   "metadata": {},
   "outputs": [
    {
     "name": "stdout",
     "output_type": "stream",
     "text": [
      "(4554, 12885) (4554,) (1149, 12885) (1149,)\n"
     ]
    }
   ],
   "source": [
    "print(features_train.shape,\n",
    "labels_train_harassment.shape,\n",
    "features_val.shape,\n",
    "labels_val_harassment.shape)"
   ]
  },
  {
   "cell_type": "markdown",
   "metadata": {},
   "source": [
    "Primero se hará regresión lineal sin contar el peso, para tener un estandar"
   ]
  },
  {
   "cell_type": "code",
   "execution_count": 98,
   "metadata": {},
   "outputs": [
    {
     "name": "stderr",
     "output_type": "stream",
     "text": [
      "D:\\Programas\\Anaconda\\lib\\site-packages\\sklearn\\metrics\\classification.py:1143: UndefinedMetricWarning: F-score is ill-defined and being set to 0.0 due to no predicted samples.\n",
      "  'precision', 'predicted', average, warn_for)\n",
      "D:\\Programas\\Anaconda\\lib\\site-packages\\sklearn\\metrics\\classification.py:1143: UndefinedMetricWarning: F-score is ill-defined and being set to 0.0 due to no predicted samples.\n",
      "  'precision', 'predicted', average, warn_for)\n",
      "D:\\Programas\\Anaconda\\lib\\site-packages\\sklearn\\metrics\\classification.py:1143: UndefinedMetricWarning: F-score is ill-defined and being set to 0.0 due to no predicted samples.\n",
      "  'precision', 'predicted', average, warn_for)\n"
     ]
    },
    {
     "data": {
      "image/png": "[encoded data removed]",
      "text/plain": [
       "<Figure size 720x360 with 1 Axes>"
      ]
     },
     "metadata": {
      "needs_background": "light"
     },
     "output_type": "display_data"
    }
   ],
   "source": [
    "from sklearn.linear_model import LogisticRegression\n",
    "\n",
    "def do_LOGIT(x,y,xv,yv, param):\n",
    "    #print(\"Param C = \",param)\n",
    "    model= LogisticRegression()\n",
    "    model.set_params(C = param)\n",
    "    model.fit(x,y)\n",
    "    pred_y = model.predict(xv)\n",
    "    return model, yv, pred_y\n",
    "\n",
    "do_model(do_LOGIT, [10**-4,10**-3,10**-2,10**-1,10**0,10**1], \"Regresión logistica sin balanceo y vocabulario de train\", 'C parameter value')"
   ]
  },
  {
   "cell_type": "code",
   "execution_count": null,
   "metadata": {},
   "outputs": [],
   "source": []
  },
  {
   "cell_type": "code",
   "execution_count": 74,
   "metadata": {},
   "outputs": [],
   "source": []
  },
  {
   "cell_type": "markdown",
   "metadata": {},
   "source": [
    "<a id=\"refs\"></a>\n",
    "## Referencias\n",
    "[1] https://scikit-learn.org/stable/modules/ensemble.html  \n",
    "[2] https://scikit-learn.org/stable/modules/tree.html  \n",
    "[3] http://scikit-learn.org/stable/modules/generated/sklearn.metrics.f1_score.html  \n",
    "[4] https://towardsdatascience.com/methods-for-dealing-with-imbalanced-data-5b761be45a18"
   ]
  }
 ],
 "metadata": {
  "kernelspec": {
   "display_name": "Python 3",
   "language": "python",
   "name": "python3"
  },
  "language_info": {
   "codemirror_mode": {
    "name": "ipython",
    "version": 3
   },
   "file_extension": ".py",
   "mimetype": "text/x-python",
   "name": "python",
   "nbconvert_exporter": "python",
   "pygments_lexer": "ipython3",
   "version": "3.7.3"
  }
 },
 "nbformat": 4,
 "nbformat_minor": 2
}
